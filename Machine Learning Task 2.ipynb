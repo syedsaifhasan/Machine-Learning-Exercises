{
 "cells": [
  {
   "cell_type": "code",
   "execution_count": 1,
   "metadata": {},
   "outputs": [],
   "source": [
    "import numpy as np\n",
    "import matplotlib.pyplot as plt\n",
    "import pandas as pd"
   ]
  },
  {
   "cell_type": "code",
   "execution_count": 2,
   "metadata": {},
   "outputs": [],
   "source": [
    "data = np.loadtxt('/home/syedsaifhasan/Course/Machine Learning/Seminar/data.txt')\n",
    "data = pd.DataFrame({'X1': data[:, 0], 'X2': data[:, 1], 'Label': data[:, 2]})\n",
    "positive_data = data[data['Label']==1]\n",
    "negative_data = data[data['Label']==0]"
   ]
  },
  {
   "cell_type": "code",
   "execution_count": 16,
   "metadata": {},
   "outputs": [
    {
     "data": {
      "image/png": "[encoded data removed]",
      "text/plain": [
       "<Figure size 432x288 with 1 Axes>"
      ]
     },
     "metadata": {
      "needs_background": "light"
     },
     "output_type": "display_data"
    }
   ],
   "source": [
    "# Initialize theetas\n",
    "def initialize_theetas(degree_theetas):\n",
    "     return np.random.uniform(-0.01, 0.01, size=(degree_theetas+1))\n",
    "\n",
    "# Return x matrix\n",
    "def x_matrix(x_coordinates, degree):\n",
    "    x = pd.DataFrame(np.ones(len(x_coordinates)))\n",
    "    for column in enumerate(x_coordinates.columns):\n",
    "        x[column[1]] =  x_coordinates[column[1]]\n",
    "    return np.array(x)\n",
    "\n",
    "# Predict the approximate value of y using given theetas\n",
    "def pred_y(x_values, theeta_values):\n",
    "    return (1/(1+np.exp(-np.dot(x_values, theeta_values))))\n",
    "\n",
    "# Initialize variables\n",
    "degree_func = 2\n",
    "iterations = 5000\n",
    "alpha = 0.001\n",
    "\n",
    "# Initialize theetas\n",
    "theetas = initialize_theetas(degree_func)\n",
    "\n",
    "# Initialize x matrix\n",
    "x_mat = x_matrix(data[['X1', 'X2']], degree_func)\n",
    "\n",
    "# Predict Y val\n",
    "y_val = pred_y(x_mat, theetas)\n",
    "\n",
    "# Gradient Descent\n",
    "def gradient_descent(alpha, theetas, predicted_y, y, x_mat, iterations):\n",
    "\n",
    "    theetas = np.array(theetas)\n",
    "    y = np.array(y)\n",
    "    x_mat = np.array(x_mat)\n",
    "    for a in range(iterations):\n",
    "        for i in range(y.size):\n",
    "            predicted_y = pred_y(x_mat[i], theetas)\n",
    "            for b in range(x_mat.shape[1]):\n",
    "                interval = (y[i] - predicted_y)*x_mat[i, b]\n",
    "                theetas[b] = theetas[b] + alpha*interval\n",
    "\n",
    "    return errors, theetas\n",
    "\n",
    "# Calculate X2 using X1 and plot (X1, X2) BEFORE GRADIENT DESCENT\n",
    "x2 = (theetas[0] + theetas[1]*data['X1'])*(-1/theetas[2])\n",
    "plt.plot(data['X1'], x2, color='black')\n",
    "\n",
    "# Update theetas\n",
    "errors, theetas = gradient_descent(alpha, theetas, y_val, data['Label'], x_mat, iterations)\n",
    "\n",
    "# Calculate X2 using X1 and plot (X1, X2) AFTER GRADIENT DESCENT\n",
    "x2 = (theetas[0] + theetas[1]*data['X1'])*(-1/theetas[2])\n",
    "plt.plot(data['X1'], x2, color='blue')\n",
    "\n",
    "# Plot the dataset\n",
    "plt.scatter(positive_data['X1'],positive_data['X2'], color='blue')\n",
    "plt.scatter(negative_data['X1'],negative_data['X2'], color='red')\n",
    "\n",
    "plt.show()"
   ]
  }
 ],
 "metadata": {
  "kernelspec": {
   "display_name": "Python 3",
   "language": "python",
   "name": "python3"
  },
  "language_info": {
   "codemirror_mode": {
    "name": "ipython",
    "version": 3
   },
   "file_extension": ".py",
   "mimetype": "text/x-python",
   "name": "python",
   "nbconvert_exporter": "python",
   "pygments_lexer": "ipython3",
   "version": "3.6.9"
  }
 },
 "nbformat": 4,
 "nbformat_minor": 2
}
