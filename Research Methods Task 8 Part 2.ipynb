{
 "cells": [
  {
   "cell_type": "markdown",
   "metadata": {},
   "source": [
    "# Research Methods Task 2\n",
    "\n",
    "You are playing a heated game of Dungeons & Dragons and the dungeon master's (DM) main character always attacks you with two weapons (one die each). \n",
    "You would like to know what type of weapons they are and could guess, if you knew the individual damage rolls, but the DM only gives you the sum of the rolled values (each die represents one weapon). You know it has to be either a d6, d8, d10, or d12 (dX = X-sided die) for either weapon and the DM always rolls two at the same time and gives you the sum. Your hypothesis would be that it is a d6 and a d10. What is the likelihood for this hypothesis, if the last 5 throws gave you the summed numbers [10, 12, 15, 4, 7]"
   ]
  },
  {
   "cell_type": "markdown",
   "metadata": {},
   "source": [
    "## Import Libraries"
   ]
  },
  {
   "cell_type": "code",
   "execution_count": 112,
   "metadata": {},
   "outputs": [],
   "source": [
    "import numpy\n",
    "import itertools"
   ]
  },
  {
   "cell_type": "markdown",
   "metadata": {},
   "source": [
    "## Generate all four dices.\n",
    "\n",
    "We generated four dices D6, D8, D10, D12 of sizes 6, 8, 10, 12 respectively."
   ]
  },
  {
   "cell_type": "code",
   "execution_count": 121,
   "metadata": {},
   "outputs": [
    {
     "data": {
      "text/plain": [
       "{'d10': [1, 2, 3, 4, 5, 6, 7, 8, 9, 10],\n",
       " 'd12': [1, 2, 3, 4, 5, 6, 7, 8, 9, 10, 11, 12],\n",
       " 'd6': [1, 2, 3, 4, 5, 6],\n",
       " 'd8': [1, 2, 3, 4, 5, 6, 7, 8]}"
      ]
     },
     "execution_count": 121,
     "metadata": {},
     "output_type": "execute_result"
    }
   ],
   "source": [
    "def generate_dice(n):\n",
    "    dice = []\n",
    "    for i in range(n):\n",
    "        dice.append(i+1)\n",
    "    return dice\n",
    "        \n",
    "d6 = generate_dice(6)\n",
    "d8 = generate_dice(8)\n",
    "d10 = generate_dice(10)\n",
    "d12 = generate_dice(12)\n",
    "\n",
    "dices = {'d6':d6,'d8':d8,'d10':d10,'d12':d12}\n",
    "dices"
   ]
  },
  {
   "cell_type": "code",
   "execution_count": 122,
   "metadata": {},
   "outputs": [
    {
     "data": {
      "text/plain": [
       "[('d12', 'd10'),\n",
       " ('d12', 'd8'),\n",
       " ('d12', 'd6'),\n",
       " ('d10', 'd8'),\n",
       " ('d10', 'd6'),\n",
       " ('d8', 'd6')]"
      ]
     },
     "execution_count": 122,
     "metadata": {},
     "output_type": "execute_result"
    }
   ],
   "source": [
    "combinations = list(itertools.combinations(dices, 2))\n",
    "combinations"
   ]
  },
  {
   "cell_type": "markdown",
   "metadata": {},
   "source": [
    "## Calculating Individual Probabilities"
   ]
  },
  {
   "cell_type": "code",
   "execution_count": 120,
   "metadata": {},
   "outputs": [
    {
     "name": "stdout",
     "output_type": "stream",
     "text": [
      "Total Possible Outcomes:  476\n",
      "\n",
      "P( X ):  {'12': 0.0819, '15': 0.0504, '10': 0.0882, '7': 0.0756, '4': 0.0378}\n",
      "P( H ):  {('d12', 'd6'): 0.1513, ('d10', 'd6'): 0.1261, ('d12', 'd10'): 0.2521, ('d10', 'd8'): 0.1681, ('d12', 'd8'): 0.2017, ('d8', 'd6'): 0.1008}\n",
      "\n",
      "For (D6,D10) hypothesis:\n",
      "P( H | X ):  {'12': 0.1282, '15': 0.0833, '10': 0.1429, '4': 0.1667, '7': 0.1667}\n"
     ]
    }
   ],
   "source": [
    "sums = [10, 12, 15, 4, 7]\n",
    "results = {}\n",
    "combination_count = {}\n",
    "hypothesis_set = {}\n",
    "\n",
    "for value in sums:\n",
    "    b = 0\n",
    "    value_count = 0\n",
    "    outcomes_count = 0\n",
    "    for a in combinations:\n",
    "        listA, listB = a\n",
    "        comb_count = 0\n",
    "        for val1 in dices[listA]:\n",
    "            for val2 in dices[listB]:\n",
    "                result = val1 + val2\n",
    "                if (result) == value:\n",
    "                    if a == ('d10','d6'):\n",
    "                        b += 1\n",
    "                    value_count += 1\n",
    "                outcomes_count += 1\n",
    "                comb_count += 1\n",
    "        combination_count[a] = comb_count\n",
    "    results[str(value)] = value_count\n",
    "    hypothesis_set[str(value)] = b\n",
    "\n",
    "hypothesis_set = {k: round(hypothesis_set[k] / results[k], 4) for k in hypothesis_set if k in results}\n",
    "results.update((x, round(y / outcomes_count, 4)) for x, y in results.items())\n",
    "combination_count.update((x, round(y / outcomes_count, 4)) for x, y in combination_count.items()) \n",
    "   \n",
    "print (\"Total Possible Outcomes: \", outcomes_count)\n",
    "print (\"\\nP( X ): \", results)\n",
    "print (\"P( H ): \", combination_count)\n",
    "print ('\\nFor (D6,D10) hypothesis:')\n",
    "print (\"P( H | X ): \", hypothesis_set)"
   ]
  },
  {
   "cell_type": "markdown",
   "metadata": {},
   "source": [
    "## Calculate Likelihood of our Hypothesis"
   ]
  },
  {
   "cell_type": "code",
   "execution_count": 117,
   "metadata": {},
   "outputs": [
    {
     "name": "stdout",
     "output_type": "stream",
     "text": [
      "The likelihood of the hypothesis is 0.3664\n"
     ]
    }
   ],
   "source": [
    "hypothesis = ('d10', 'd6')\n",
    "final = 0\n",
    "\n",
    "for value in sums:\n",
    "    final += (results[str(value)]*hypothesis_set[str(value)])/combination_count[hypothesis]\n",
    "\n",
    "print ('The likelihood of the hypothesis is {}'.format(round(final, 4)))"
   ]
  }
 ],
 "metadata": {
  "kernelspec": {
   "display_name": "Python 3",
   "language": "python",
   "name": "python3"
  },
  "language_info": {
   "codemirror_mode": {
    "name": "ipython",
    "version": 3
   },
   "file_extension": ".py",
   "mimetype": "text/x-python",
   "name": "python",
   "nbconvert_exporter": "python",
   "pygments_lexer": "ipython3",
   "version": "3.5.2"
  }
 },
 "nbformat": 4,
 "nbformat_minor": 2
}
