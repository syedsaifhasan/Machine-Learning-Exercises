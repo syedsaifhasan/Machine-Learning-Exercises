{
 "cells": [
  {
   "cell_type": "markdown",
   "metadata": {},
   "source": [
    "# Machine Learning Exercise 4\n",
    "\n",
    "Submitted by: <b>Syed Saif Hasan</b> <br>\n",
    "Matriculation Number: <b>7252394</b> <br>\n",
    "Submitted to: <b>Dr. Victor Uc Cetina</b>"
   ]
  },
  {
   "cell_type": "markdown",
   "metadata": {},
   "source": [
    "## TASK 1\n",
    "\n",
    "Run the experiments with the dataset heart scale that comes with the library. In\n",
    "the readme file it is especified how to test it correctly."
   ]
  },
  {
   "cell_type": "code",
   "execution_count": 10,
   "metadata": {},
   "outputs": [
    {
     "name": "stdout",
     "output_type": "stream",
     "text": [
      "*\r\n",
      "optimization finished, #iter = 162\r\n",
      "nu = 0.431029\r\n",
      "obj = -100.877288, rho = 0.424462\r\n",
      "nSV = 132, nBSV = 107\r\n",
      "Total nSV = 132\r\n"
     ]
    }
   ],
   "source": [
    "!svm-train heart_scale"
   ]
  },
  {
   "cell_type": "code",
   "execution_count": 11,
   "metadata": {},
   "outputs": [
    {
     "name": "stdout",
     "output_type": "stream",
     "text": [
      "Accuracy = 86.6667% (234/270) (classification)\r\n"
     ]
    }
   ],
   "source": [
    "!svm-predict heart_scale heart_scale.model output"
   ]
  },
  {
   "cell_type": "markdown",
   "metadata": {},
   "source": [
    "## TASK 2\n",
    "\n",
    "Apply support vector machines to classify the Chagas parasite images using the feature vectors that you generated in exercise 3. You need to run experiments using the linear, polynomial, sigmoid and radial basis kernels.\n",
    "\n",
    "To run experiments with your data, you need to find the optimal values for C\n",
    "and gamma."
   ]
  },
  {
   "cell_type": "code",
   "execution_count": 1,
   "metadata": {
    "scrolled": true
   },
   "outputs": [],
   "source": [
    "# Import Libaries\n",
    "\n",
    "import numpy\n",
    "import matplotlib.pyplot as plt\n",
    "import cv2\n",
    "import glob\n",
    "import math\n",
    "import pandas\n",
    "from libsvm.svmutil import *"
   ]
  },
  {
   "cell_type": "code",
   "execution_count": 2,
   "metadata": {},
   "outputs": [],
   "source": [
    "# Load Positive Data\n",
    "dir = '/home/syedsaifhasan/Course/Machine Learning/Seminar/positives/positives/*.png'\n",
    "p_b, p_r, p_g = [], [], []\n",
    "for filename in glob.glob(dir):\n",
    "    im = cv2.imread(filename)\n",
    "    b, g, r = im[:, :, 0].flatten(), im[:, :, 1].flatten(), im[:, :, 2].flatten()\n",
    "    p_b.append(b)\n",
    "    p_g.append(g)\n",
    "    p_r.append(r)\n",
    "p_b = numpy.array(p_b)\n",
    "p_r = numpy.array(p_r)\n",
    "p_g = numpy.array(p_g)\n",
    "    \n",
    "# Load Negative Data\n",
    "dir = '/home/syedsaifhasan/Course/Machine Learning/Seminar/negatives/negatives/*.png'\n",
    "n_b, n_r, n_g = [], [], []\n",
    "for filename in glob.glob(dir):\n",
    "    im = cv2.imread(filename)\n",
    "    b, g, r = im[:, :, 0].flatten(), im[:, :, 1].flatten(), im[:, :, 2].flatten()\n",
    "    n_b.append(b)\n",
    "    n_g.append(g)\n",
    "    n_r.append(r)\n",
    "n_b = numpy.array(n_b)\n",
    "n_r = numpy.array(n_r)\n",
    "n_g = numpy.array(n_g)"
   ]
  },
  {
   "cell_type": "code",
   "execution_count": 3,
   "metadata": {},
   "outputs": [],
   "source": [
    "# Kernel for feature extraction\n",
    "kernel = numpy.random.rand(576)\n",
    "\n",
    "# Get all positive data features\n",
    "p_f1 = numpy.mean(p_b, axis=1).round()\n",
    "p_f2 = numpy.mean(p_r, axis=1).round()\n",
    "p_f3 = numpy.mean(p_g, axis=1).round()\n",
    "p_f4 = numpy.mean(p_b*kernel, axis=1).round()\n",
    "p_f5 = numpy.mean(p_r*kernel, axis=1).round()\n",
    "p_f6 = numpy.mean(p_g*kernel, axis=1).round()\n",
    "\n",
    "# Get all negative data features\n",
    "n_f1 = numpy.mean(n_b, axis=1).round()\n",
    "n_f2 = numpy.mean(n_r, axis=1).round()\n",
    "n_f3 = numpy.mean(n_g, axis=1).round()\n",
    "n_f4 = numpy.mean(n_b*kernel, axis=1).round()\n",
    "n_f5 = numpy.mean(n_r*kernel, axis=1).round()\n",
    "n_f6 = numpy.mean(n_g*kernel, axis=1).round()"
   ]
  },
  {
   "cell_type": "code",
   "execution_count": 4,
   "metadata": {},
   "outputs": [],
   "source": [
    "# Combine all the positive features in single array\n",
    "positive_features = numpy.column_stack((p_f1,p_f2,p_f3,p_f4,p_f5,p_f6))\n",
    "\n",
    "# Combine all the negative features in single array\n",
    "negative_features = numpy.column_stack((n_f1,n_f2,n_f3,n_f4,n_f5,n_f6))"
   ]
  },
  {
   "cell_type": "code",
   "execution_count": 5,
   "metadata": {},
   "outputs": [
    {
     "name": "stdout",
     "output_type": "stream",
     "text": [
      "Training Samples:\n",
      "Data:  (50, 6)\n",
      "Labels:  (50,)\n",
      "Testing Samples:\n",
      "Data:  (10, 6)\n",
      "Labels:  (10,)\n"
     ]
    }
   ],
   "source": [
    "# Splitting Training and Testing Data\n",
    "\n",
    "# Training Data / 25 Samples\n",
    "training_data = numpy.concatenate((positive_features[:25], negative_features[:25]))\n",
    "training_labels = numpy.concatenate((numpy.ones(25), numpy.zeros(25)))\n",
    "print ('Training Samples:')\n",
    "print ('Data: ', training_data.shape)\n",
    "print ('Labels: ', training_labels.shape)\n",
    "\n",
    "# Testing Data / 5 Samples\n",
    "testing_data = numpy.concatenate((positive_features[25:], negative_features[25:]))\n",
    "testing_labels =  numpy.concatenate((numpy.ones(5), numpy.zeros(5)))\n",
    "print ('Testing Samples:')\n",
    "print ('Data: ', testing_data.shape)\n",
    "print ('Labels: ', testing_labels.shape)"
   ]
  },
  {
   "cell_type": "code",
   "execution_count": 6,
   "metadata": {},
   "outputs": [
    {
     "name": "stdout",
     "output_type": "stream",
     "text": [
      "Accuracy = 90% (9/10) (classification)\n"
     ]
    }
   ],
   "source": [
    "# Linear Kernel Training\n",
    "linear_model = svm_train(training_labels, training_data , '-t 0 -g 0.23 -c 1' )\n",
    "\n",
    "# Linear Kernel Testing\n",
    "label, accuracy, validation = svm_predict(testing_labels, testing_data, linear_model)"
   ]
  },
  {
   "cell_type": "code",
   "execution_count": 7,
   "metadata": {},
   "outputs": [
    {
     "name": "stdout",
     "output_type": "stream",
     "text": [
      "Accuracy = 80% (8/10) (classification)\n"
     ]
    }
   ],
   "source": [
    "# Polynomial Kernel Training\n",
    "polynomial_model = svm_train(training_labels, training_data , '-t 1 -g 0.23 -c 1' )\n",
    "\n",
    "# Polynomial Kernel Testing\n",
    "label, accuracy, validation = svm_predict(testing_labels, testing_data, polynomial_model)"
   ]
  },
  {
   "cell_type": "code",
   "execution_count": 8,
   "metadata": {},
   "outputs": [
    {
     "name": "stdout",
     "output_type": "stream",
     "text": [
      "Accuracy = 60% (6/10) (classification)\n"
     ]
    }
   ],
   "source": [
    "# Radial Kernel Training\n",
    "radial_model = svm_train(training_labels, training_data , '-t 2 -g 0.23 -c 1' )\n",
    "\n",
    "# Radial Kernel Testing\n",
    "label, accuracy, validation = svm_predict(testing_labels, testing_data, radial_model)"
   ]
  },
  {
   "cell_type": "code",
   "execution_count": 9,
   "metadata": {},
   "outputs": [
    {
     "name": "stdout",
     "output_type": "stream",
     "text": [
      "Accuracy = 50% (5/10) (classification)\n"
     ]
    }
   ],
   "source": [
    "# Sigmoid Kernel Training\n",
    "sigmoid_model = svm_train(training_labels, training_data , '-t 3 -g 0.23 -c 1' )\n",
    "\n",
    "# Sigmoid Kernel Testing\n",
    "label, accuracy, validation = svm_predict(testing_labels, testing_data, sigmoid_model)"
   ]
  }
 ],
 "metadata": {
  "kernelspec": {
   "display_name": "Python 3",
   "language": "python",
   "name": "python3"
  },
  "language_info": {
   "codemirror_mode": {
    "name": "ipython",
    "version": 3
   },
   "file_extension": ".py",
   "mimetype": "text/x-python",
   "name": "python",
   "nbconvert_exporter": "python",
   "pygments_lexer": "ipython3",
   "version": "3.5.2"
  }
 },
 "nbformat": 4,
 "nbformat_minor": 2
}
